{
 "cells": [
  {
   "cell_type": "markdown",
   "metadata": {},
   "source": [
    "# Analyzing the Dataset"
   ]
  },
  {
   "cell_type": "code",
   "execution_count": 1,
   "metadata": {},
   "outputs": [],
   "source": [
    "import pandas as pd\n",
    "import matplotlib.pyplot as plt\n",
    "import numpy as np"
   ]
  },
  {
   "cell_type": "code",
   "execution_count": 2,
   "metadata": {},
   "outputs": [],
   "source": [
    "ratings = pd.read_csv(\"ratings.csv\")"
   ]
  },
  {
   "cell_type": "code",
   "execution_count": 3,
   "metadata": {},
   "outputs": [
    {
     "data": {
      "text/html": [
       "<div>\n",
       "<style scoped>\n",
       "    .dataframe tbody tr th:only-of-type {\n",
       "        vertical-align: middle;\n",
       "    }\n",
       "\n",
       "    .dataframe tbody tr th {\n",
       "        vertical-align: top;\n",
       "    }\n",
       "\n",
       "    .dataframe thead th {\n",
       "        text-align: right;\n",
       "    }\n",
       "</style>\n",
       "<table border=\"1\" class=\"dataframe\">\n",
       "  <thead>\n",
       "    <tr style=\"text-align: right;\">\n",
       "      <th></th>\n",
       "      <th>userId</th>\n",
       "      <th>movieId</th>\n",
       "      <th>rating</th>\n",
       "      <th>timestamp</th>\n",
       "    </tr>\n",
       "  </thead>\n",
       "  <tbody>\n",
       "    <tr>\n",
       "      <th>0</th>\n",
       "      <td>1</td>\n",
       "      <td>1</td>\n",
       "      <td>4.0</td>\n",
       "      <td>964982703</td>\n",
       "    </tr>\n",
       "    <tr>\n",
       "      <th>1</th>\n",
       "      <td>1</td>\n",
       "      <td>3</td>\n",
       "      <td>4.0</td>\n",
       "      <td>964981247</td>\n",
       "    </tr>\n",
       "    <tr>\n",
       "      <th>2</th>\n",
       "      <td>1</td>\n",
       "      <td>6</td>\n",
       "      <td>4.0</td>\n",
       "      <td>964982224</td>\n",
       "    </tr>\n",
       "    <tr>\n",
       "      <th>3</th>\n",
       "      <td>1</td>\n",
       "      <td>47</td>\n",
       "      <td>5.0</td>\n",
       "      <td>964983815</td>\n",
       "    </tr>\n",
       "    <tr>\n",
       "      <th>4</th>\n",
       "      <td>1</td>\n",
       "      <td>50</td>\n",
       "      <td>5.0</td>\n",
       "      <td>964982931</td>\n",
       "    </tr>\n",
       "  </tbody>\n",
       "</table>\n",
       "</div>"
      ],
      "text/plain": [
       "   userId  movieId  rating  timestamp\n",
       "0       1        1     4.0  964982703\n",
       "1       1        3     4.0  964981247\n",
       "2       1        6     4.0  964982224\n",
       "3       1       47     5.0  964983815\n",
       "4       1       50     5.0  964982931"
      ]
     },
     "execution_count": 3,
     "metadata": {},
     "output_type": "execute_result"
    }
   ],
   "source": [
    "ratings.head()"
   ]
  },
  {
   "cell_type": "code",
   "execution_count": 4,
   "metadata": {},
   "outputs": [
    {
     "data": {
      "text/plain": [
       "'The dataset includes 100836 ratings by 610 unique users for 9724 unique movies'"
      ]
     },
     "execution_count": 4,
     "metadata": {},
     "output_type": "execute_result"
    }
   ],
   "source": [
    "n_users, n_movies = len(ratings.userId.unique()), len(ratings.movieId.unique())\n",
    "f'The dataset includes {len(ratings)} ratings by {n_users} unique users for {n_movies} unique movies'"
   ]
  },
  {
   "cell_type": "code",
   "execution_count": 5,
   "metadata": {},
   "outputs": [],
   "source": [
    "train_df = pd.read_csv(\"train12.csv\")"
   ]
  },
  {
   "cell_type": "code",
   "execution_count": 6,
   "metadata": {},
   "outputs": [
    {
     "data": {
      "text/html": [
       "<div>\n",
       "<style scoped>\n",
       "    .dataframe tbody tr th:only-of-type {\n",
       "        vertical-align: middle;\n",
       "    }\n",
       "\n",
       "    .dataframe tbody tr th {\n",
       "        vertical-align: top;\n",
       "    }\n",
       "\n",
       "    .dataframe thead th {\n",
       "        text-align: right;\n",
       "    }\n",
       "</style>\n",
       "<table border=\"1\" class=\"dataframe\">\n",
       "  <thead>\n",
       "    <tr style=\"text-align: right;\">\n",
       "      <th></th>\n",
       "      <th>userId</th>\n",
       "      <th>movieId</th>\n",
       "      <th>rating</th>\n",
       "    </tr>\n",
       "  </thead>\n",
       "  <tbody>\n",
       "    <tr>\n",
       "      <th>0</th>\n",
       "      <td>1</td>\n",
       "      <td>0</td>\n",
       "      <td>4.0</td>\n",
       "    </tr>\n",
       "    <tr>\n",
       "      <th>1</th>\n",
       "      <td>1</td>\n",
       "      <td>1</td>\n",
       "      <td>4.0</td>\n",
       "    </tr>\n",
       "    <tr>\n",
       "      <th>2</th>\n",
       "      <td>1</td>\n",
       "      <td>2</td>\n",
       "      <td>4.0</td>\n",
       "    </tr>\n",
       "    <tr>\n",
       "      <th>3</th>\n",
       "      <td>1</td>\n",
       "      <td>3</td>\n",
       "      <td>5.0</td>\n",
       "    </tr>\n",
       "    <tr>\n",
       "      <th>4</th>\n",
       "      <td>1</td>\n",
       "      <td>4</td>\n",
       "      <td>3.0</td>\n",
       "    </tr>\n",
       "  </tbody>\n",
       "</table>\n",
       "</div>"
      ],
      "text/plain": [
       "   userId  movieId  rating\n",
       "0       1        0     4.0\n",
       "1       1        1     4.0\n",
       "2       1        2     4.0\n",
       "3       1        3     5.0\n",
       "4       1        4     3.0"
      ]
     },
     "execution_count": 6,
     "metadata": {},
     "output_type": "execute_result"
    }
   ],
   "source": [
    "train_df.head()"
   ]
  },
  {
   "cell_type": "code",
   "execution_count": 7,
   "metadata": {},
   "outputs": [],
   "source": [
    "cnt_1=0\n",
    "cnt_2=0\n",
    "cnt_3=0\n",
    "cnt_4=0\n",
    "cnt_5=0\n",
    "for x in train_df.iterrows():\n",
    "    if x[1]['rating']==1:\n",
    "        cnt_1 += 1\n",
    "    elif x[1]['rating']==2:\n",
    "        cnt_2 += 1\n",
    "    elif x[1]['rating']==3:\n",
    "        cnt_3 += 1\n",
    "    elif x[1]['rating']==4:\n",
    "        cnt_4 += 1\n",
    "    elif x[1]['rating']==5:\n",
    "        cnt_5 += 1"
   ]
  },
  {
   "cell_type": "markdown",
   "metadata": {},
   "source": [
    "# Distribution of Ratings in the Dataset"
   ]
  },
  {
   "cell_type": "code",
   "execution_count": 11,
   "metadata": {},
   "outputs": [
    {
     "data": {
      "image/png": "[encoded data removed]",
      "text/plain": [
       "<Figure size 432x288 with 1 Axes>"
      ]
     },
     "metadata": {
      "needs_background": "light"
     },
     "output_type": "display_data"
    }
   ],
   "source": [
    "import matplotlib.pyplot as plt\n",
    "import numpy as np\n",
    "label = [1,2,3,4,5]\n",
    "no_ratings = [cnt_1,cnt_2,cnt_3,cnt_4,cnt_5]\n",
    "index = np.arange(len(label))\n",
    "plt.bar(index, no_ratings)\n",
    "plt.xlabel('Rating_value', fontsize=18)\n",
    "plt.ylabel('No of Ratings', fontsize=18)\n",
    "plt.xticks(index, label, fontsize=10, rotation=30)\n",
    "# plt.title('Market Share for Each Genre 1995-2017')\n",
    "plt.show()"
   ]
  },
  {
   "cell_type": "code",
   "execution_count": 70,
   "metadata": {},
   "outputs": [
    {
     "data": {
      "text/plain": [
       "8954"
      ]
     },
     "execution_count": 70,
     "metadata": {},
     "output_type": "execute_result"
    }
   ],
   "source": [
    "len(train_df.movieId.unique())"
   ]
  },
  {
   "cell_type": "code",
   "execution_count": 71,
   "metadata": {},
   "outputs": [
    {
     "data": {
      "text/plain": [
       "'The dataset includes 80669 ratings by 610 unique users for 8954 unique movies'"
      ]
     },
     "execution_count": 71,
     "metadata": {},
     "output_type": "execute_result"
    }
   ],
   "source": [
    "n_users, n_movies = len(train_df.userId.unique()), len(train_df.movieId.unique())\n",
    "f'The dataset includes {len(train_df)} ratings by {n_users} unique users for {n_movies} unique movies'"
   ]
  },
  {
   "cell_type": "markdown",
   "metadata": {},
   "source": [
    "# Approach 1: Matrix Factorization with Neural Networks"
   ]
  },
  {
   "cell_type": "code",
   "execution_count": 72,
   "metadata": {},
   "outputs": [],
   "source": [
    "from keras.models import Sequential, Model\n",
    "from keras.layers import Embedding, Flatten, Dense, Dropout, concatenate, multiply, Input\n",
    "from keras.optimizers import Adam"
   ]
  },
  {
   "cell_type": "code",
   "execution_count": 73,
   "metadata": {},
   "outputs": [],
   "source": [
    "from sklearn.datasets import load_iris\n",
    "from sklearn import preprocessing"
   ]
  },
  {
   "cell_type": "code",
   "execution_count": 74,
   "metadata": {
    "scrolled": true
   },
   "outputs": [
    {
     "name": "stdout",
     "output_type": "stream",
     "text": [
      "__________________________________________________________________________________________________\n",
      "Layer (type)                    Output Shape         Param #     Connected to                     \n",
      "==================================================================================================\n",
      "Movie (InputLayer)              (None, 1)            0                                            \n",
      "__________________________________________________________________________________________________\n",
      "User (InputLayer)               (None, 1)            0                                            \n",
      "__________________________________________________________________________________________________\n",
      "Movie-Embedding (Embedding)     (None, 1, 40)        358200      Movie[0][0]                      \n",
      "__________________________________________________________________________________________________\n",
      "User-Embedding (Embedding)      (None, 1, 40)        24440       User[0][0]                       \n",
      "__________________________________________________________________________________________________\n",
      "movie_flatten (Flatten)         (None, 40)           0           Movie-Embedding[0][0]            \n",
      "__________________________________________________________________________________________________\n",
      "user_flatten (Flatten)          (None, 40)           0           User-Embedding[0][0]             \n",
      "__________________________________________________________________________________________________\n",
      "dropout_7 (Dropout)             (None, 40)           0           movie_flatten[0][0]              \n",
      "__________________________________________________________________________________________________\n",
      "dropout_8 (Dropout)             (None, 40)           0           user_flatten[0][0]               \n",
      "__________________________________________________________________________________________________\n",
      "concatenate_3 (Concatenate)     (None, 80)           0           dropout_7[0][0]                  \n",
      "                                                                 dropout_8[0][0]                  \n",
      "__________________________________________________________________________________________________\n",
      "Fully-Connected1 (Dense)        (None, 20)           1620        concatenate_3[0][0]              \n",
      "__________________________________________________________________________________________________\n",
      "Activation (Dense)              (None, 1)            21          Fully-Connected1[0][0]           \n",
      "==================================================================================================\n",
      "Total params: 384,281\n",
      "Trainable params: 384,281\n",
      "Non-trainable params: 0\n",
      "__________________________________________________________________________________________________\n"
     ]
    }
   ],
   "source": [
    "dim_embedding_user = 40\n",
    "dim_embedding_movie = 40\n",
    "#book embedding\n",
    "movie_input = Input(shape=[1],name = 'Movie')\n",
    "# movie_input = preprocessing.scale(movie_input)\n",
    "movie_embedding = Embedding(n_movies+1,dim_embedding_movie,name='Movie-Embedding')(movie_input)\n",
    "movie_vec = Flatten(name='movie_flatten')(movie_embedding)\n",
    "movie_vec = Dropout(0.2)(movie_vec)\n",
    "#user embedding\n",
    "user_input = Input(shape=[1],name='User')\n",
    "# user_input = preprocessing.scale(user_input)\n",
    "user_embedding = Embedding(n_users+1,dim_embedding_user,name = 'User-Embedding')(user_input)\n",
    "user_vec = Flatten(name='user_flatten')(user_embedding)\n",
    "user_vec = Dropout(0.2)(user_vec)\n",
    "#concatenate flattened values\n",
    "concat = concatenate([movie_vec,user_vec])\n",
    "concat_dropout = Dropout(0.2)(concat)\n",
    "#dense layer\n",
    "dense = Dense(20,name='Fully-Connected1',activation='relu')(concat)\n",
    "result = Dense(1,activation='relu',name='Activation')(dense)\n",
    "#define model\n",
    "model = Model([user_input,movie_input],result)\n",
    "#show model summary\n",
    "model.summary()"
   ]
  },
  {
   "cell_type": "code",
   "execution_count": 21,
   "metadata": {},
   "outputs": [],
   "source": [
    "from sklearn.datasets import load_iris\n",
    "from sklearn import preprocessing\n",
    "x_user = preprocessing.scale(train_df['userId'])"
   ]
  },
  {
   "cell_type": "code",
   "execution_count": 31,
   "metadata": {},
   "outputs": [
    {
     "data": {
      "text/plain": [
       "80669"
      ]
     },
     "execution_count": 31,
     "metadata": {},
     "output_type": "execute_result"
    }
   ],
   "source": [
    "train_df['rating'].size"
   ]
  },
  {
   "cell_type": "code",
   "execution_count": 122,
   "metadata": {
    "scrolled": true
   },
   "outputs": [
    {
     "name": "stdout",
     "output_type": "stream",
     "text": [
      "Train on 72602 samples, validate on 8067 samples\n",
      "Epoch 1/10\n",
      "72602/72602 [==============================] - 2s 30us/step - loss: 0.3875 - mean_absolute_error: 0.4668 - val_loss: 0.2687 - val_mean_absolute_error: 0.3747\n",
      "Epoch 2/10\n",
      "72602/72602 [==============================] - 2s 22us/step - loss: 0.3842 - mean_absolute_error: 0.4645 - val_loss: 0.2965 - val_mean_absolute_error: 0.3959\n",
      "Epoch 3/10\n",
      "72602/72602 [==============================] - 2s 22us/step - loss: 0.3789 - mean_absolute_error: 0.4601 - val_loss: 0.3116 - val_mean_absolute_error: 0.4077\n",
      "Epoch 4/10\n",
      "72602/72602 [==============================] - 2s 22us/step - loss: 0.3782 - mean_absolute_error: 0.4601 - val_loss: 0.3254 - val_mean_absolute_error: 0.4151\n",
      "Epoch 5/10\n",
      "72602/72602 [==============================] - 2s 22us/step - loss: 0.3740 - mean_absolute_error: 0.4573 - val_loss: 0.3410 - val_mean_absolute_error: 0.4275\n",
      "Epoch 6/10\n",
      "72602/72602 [==============================] - 2s 23us/step - loss: 0.3736 - mean_absolute_error: 0.4574 - val_loss: 0.3500 - val_mean_absolute_error: 0.4336\n",
      "Epoch 7/10\n",
      "72602/72602 [==============================] - 2s 22us/step - loss: 0.3685 - mean_absolute_error: 0.4542 - val_loss: 0.3578 - val_mean_absolute_error: 0.4378\n",
      "Epoch 8/10\n",
      "72602/72602 [==============================] - 2s 22us/step - loss: 0.3670 - mean_absolute_error: 0.4541 - val_loss: 0.3766 - val_mean_absolute_error: 0.4527\n",
      "Epoch 9/10\n",
      "72602/72602 [==============================] - 2s 22us/step - loss: 0.3663 - mean_absolute_error: 0.4533 - val_loss: 0.3749 - val_mean_absolute_error: 0.4482\n",
      "Epoch 10/10\n",
      "72602/72602 [==============================] - 2s 23us/step - loss: 0.3621 - mean_absolute_error: 0.4503 - val_loss: 0.3869 - val_mean_absolute_error: 0.4628\n"
     ]
    }
   ],
   "source": [
    "opt_adam = Adam(lr = 2e-3)\n",
    "\n",
    "## compile model\n",
    "model.compile(optimizer= opt_adam, loss= ['mse'], metrics=['mean_absolute_error'])\n",
    "\n",
    "## fit model\n",
    "history_tabular = model.fit([train_df['userId'],train_df['movieId']],\n",
    "                                    train_df['rating'],\n",
    "                                    batch_size = 256,\n",
    "                                    validation_split = 0.1,\n",
    "                                    epochs = 10,\n",
    "                                    verbose = 1)"
   ]
  },
  {
   "cell_type": "code",
   "execution_count": 123,
   "metadata": {
    "scrolled": true
   },
   "outputs": [
    {
     "data": {
      "text/html": [
       "<div>\n",
       "<style scoped>\n",
       "    .dataframe tbody tr th:only-of-type {\n",
       "        vertical-align: middle;\n",
       "    }\n",
       "\n",
       "    .dataframe tbody tr th {\n",
       "        vertical-align: top;\n",
       "    }\n",
       "\n",
       "    .dataframe thead th {\n",
       "        text-align: right;\n",
       "    }\n",
       "</style>\n",
       "<table border=\"1\" class=\"dataframe\">\n",
       "  <thead>\n",
       "    <tr style=\"text-align: right;\">\n",
       "      <th></th>\n",
       "      <th>val_loss</th>\n",
       "      <th>val_mean_absolute_error</th>\n",
       "      <th>loss</th>\n",
       "      <th>mean_absolute_error</th>\n",
       "    </tr>\n",
       "  </thead>\n",
       "  <tbody>\n",
       "    <tr>\n",
       "      <th>0</th>\n",
       "      <td>0.268682</td>\n",
       "      <td>0.374658</td>\n",
       "      <td>0.387476</td>\n",
       "      <td>0.466824</td>\n",
       "    </tr>\n",
       "    <tr>\n",
       "      <th>1</th>\n",
       "      <td>0.296461</td>\n",
       "      <td>0.395881</td>\n",
       "      <td>0.384183</td>\n",
       "      <td>0.464511</td>\n",
       "    </tr>\n",
       "    <tr>\n",
       "      <th>2</th>\n",
       "      <td>0.311647</td>\n",
       "      <td>0.407724</td>\n",
       "      <td>0.378887</td>\n",
       "      <td>0.460088</td>\n",
       "    </tr>\n",
       "    <tr>\n",
       "      <th>3</th>\n",
       "      <td>0.325356</td>\n",
       "      <td>0.415068</td>\n",
       "      <td>0.378209</td>\n",
       "      <td>0.460058</td>\n",
       "    </tr>\n",
       "    <tr>\n",
       "      <th>4</th>\n",
       "      <td>0.341035</td>\n",
       "      <td>0.427465</td>\n",
       "      <td>0.373979</td>\n",
       "      <td>0.457341</td>\n",
       "    </tr>\n",
       "    <tr>\n",
       "      <th>5</th>\n",
       "      <td>0.350021</td>\n",
       "      <td>0.433577</td>\n",
       "      <td>0.373591</td>\n",
       "      <td>0.457416</td>\n",
       "    </tr>\n",
       "    <tr>\n",
       "      <th>6</th>\n",
       "      <td>0.357753</td>\n",
       "      <td>0.437839</td>\n",
       "      <td>0.368542</td>\n",
       "      <td>0.454164</td>\n",
       "    </tr>\n",
       "    <tr>\n",
       "      <th>7</th>\n",
       "      <td>0.376579</td>\n",
       "      <td>0.452680</td>\n",
       "      <td>0.367007</td>\n",
       "      <td>0.454122</td>\n",
       "    </tr>\n",
       "    <tr>\n",
       "      <th>8</th>\n",
       "      <td>0.374862</td>\n",
       "      <td>0.448217</td>\n",
       "      <td>0.366310</td>\n",
       "      <td>0.453346</td>\n",
       "    </tr>\n",
       "    <tr>\n",
       "      <th>9</th>\n",
       "      <td>0.386907</td>\n",
       "      <td>0.462785</td>\n",
       "      <td>0.362146</td>\n",
       "      <td>0.450320</td>\n",
       "    </tr>\n",
       "  </tbody>\n",
       "</table>\n",
       "</div>"
      ],
      "text/plain": [
       "   val_loss  val_mean_absolute_error      loss  mean_absolute_error\n",
       "0  0.268682                 0.374658  0.387476             0.466824\n",
       "1  0.296461                 0.395881  0.384183             0.464511\n",
       "2  0.311647                 0.407724  0.378887             0.460088\n",
       "3  0.325356                 0.415068  0.378209             0.460058\n",
       "4  0.341035                 0.427465  0.373979             0.457341\n",
       "5  0.350021                 0.433577  0.373591             0.457416\n",
       "6  0.357753                 0.437839  0.368542             0.454164\n",
       "7  0.376579                 0.452680  0.367007             0.454122\n",
       "8  0.374862                 0.448217  0.366310             0.453346\n",
       "9  0.386907                 0.462785  0.362146             0.450320"
      ]
     },
     "execution_count": 123,
     "metadata": {},
     "output_type": "execute_result"
    }
   ],
   "source": [
    "pd.DataFrame(history_tabular.history)"
   ]
  },
  {
   "cell_type": "code",
   "execution_count": 124,
   "metadata": {},
   "outputs": [],
   "source": [
    "test_df = pd.read_csv(\"test12.csv\")"
   ]
  },
  {
   "cell_type": "code",
   "execution_count": 125,
   "metadata": {},
   "outputs": [
    {
     "data": {
      "text/html": [
       "<div>\n",
       "<style scoped>\n",
       "    .dataframe tbody tr th:only-of-type {\n",
       "        vertical-align: middle;\n",
       "    }\n",
       "\n",
       "    .dataframe tbody tr th {\n",
       "        vertical-align: top;\n",
       "    }\n",
       "\n",
       "    .dataframe thead th {\n",
       "        text-align: right;\n",
       "    }\n",
       "</style>\n",
       "<table border=\"1\" class=\"dataframe\">\n",
       "  <thead>\n",
       "    <tr style=\"text-align: right;\">\n",
       "      <th></th>\n",
       "      <th>userId</th>\n",
       "      <th>movieId</th>\n",
       "      <th>rating</th>\n",
       "    </tr>\n",
       "  </thead>\n",
       "  <tbody>\n",
       "    <tr>\n",
       "      <th>0</th>\n",
       "      <td>1</td>\n",
       "      <td>0</td>\n",
       "      <td>5.0</td>\n",
       "    </tr>\n",
       "    <tr>\n",
       "      <th>1</th>\n",
       "      <td>1</td>\n",
       "      <td>1</td>\n",
       "      <td>5.0</td>\n",
       "    </tr>\n",
       "    <tr>\n",
       "      <th>2</th>\n",
       "      <td>1</td>\n",
       "      <td>2</td>\n",
       "      <td>4.0</td>\n",
       "    </tr>\n",
       "    <tr>\n",
       "      <th>3</th>\n",
       "      <td>1</td>\n",
       "      <td>3</td>\n",
       "      <td>4.0</td>\n",
       "    </tr>\n",
       "    <tr>\n",
       "      <th>4</th>\n",
       "      <td>1</td>\n",
       "      <td>4</td>\n",
       "      <td>4.0</td>\n",
       "    </tr>\n",
       "  </tbody>\n",
       "</table>\n",
       "</div>"
      ],
      "text/plain": [
       "   userId  movieId  rating\n",
       "0       1        0     5.0\n",
       "1       1        1     5.0\n",
       "2       1        2     4.0\n",
       "3       1        3     4.0\n",
       "4       1        4     4.0"
      ]
     },
     "execution_count": 125,
     "metadata": {},
     "output_type": "execute_result"
    }
   ],
   "source": [
    "test_df.head()"
   ]
  },
  {
   "cell_type": "code",
   "execution_count": 126,
   "metadata": {},
   "outputs": [
    {
     "data": {
      "text/plain": [
       "[1.453503784080239, 0.9383149159033238]"
      ]
     },
     "execution_count": 126,
     "metadata": {},
     "output_type": "execute_result"
    }
   ],
   "source": [
    "model.evaluate(x=[test_df['userId'],test_df['movieId']],y=test_df['rating'],verbose=0)"
   ]
  },
  {
   "cell_type": "markdown",
   "metadata": {},
   "source": [
    "# Approach 2: Tabular Data Method"
   ]
  },
  {
   "cell_type": "code",
   "execution_count": 99,
   "metadata": {
    "scrolled": true
   },
   "outputs": [
    {
     "name": "stdout",
     "output_type": "stream",
     "text": [
      "__________________________________________________________________________________________________\n",
      "Layer (type)                    Output Shape         Param #     Connected to                     \n",
      "==================================================================================================\n",
      "Movie (InputLayer)              (None, 1)            0                                            \n",
      "__________________________________________________________________________________________________\n",
      "User (InputLayer)               (None, 1)            0                                            \n",
      "__________________________________________________________________________________________________\n",
      "Movie-Embedding (Embedding)     (None, 1, 50)        447750      Movie[0][0]                      \n",
      "__________________________________________________________________________________________________\n",
      "User-Embedding (Embedding)      (None, 1, 50)        30550       User[0][0]                       \n",
      "__________________________________________________________________________________________________\n",
      "Movie-Flatten (Flatten)         (None, 50)           0           Movie-Embedding[0][0]            \n",
      "__________________________________________________________________________________________________\n",
      "User-Flatten (Flatten)          (None, 50)           0           User-Embedding[0][0]             \n",
      "__________________________________________________________________________________________________\n",
      "dropout_10 (Dropout)            (None, 50)           0           Movie-Flatten[0][0]              \n",
      "__________________________________________________________________________________________________\n",
      "dropout_11 (Dropout)            (None, 50)           0           User-Flatten[0][0]               \n",
      "__________________________________________________________________________________________________\n",
      "concatenate_4 (Concatenate)     (None, 100)          0           dropout_10[0][0]                 \n",
      "                                                                 dropout_11[0][0]                 \n",
      "__________________________________________________________________________________________________\n",
      "Fully-Connected1 (Dense)        (None, 20)           2020        concatenate_4[0][0]              \n",
      "__________________________________________________________________________________________________\n",
      "Activation (Dense)              (None, 1)            21          Fully-Connected1[0][0]           \n",
      "==================================================================================================\n",
      "Total params: 480,341\n",
      "Trainable params: 480,341\n",
      "Non-trainable params: 0\n",
      "__________________________________________________________________________________________________\n"
     ]
    }
   ],
   "source": [
    "dim_embedding_user = 50\n",
    "dim_embedding_movie = 50\n",
    "#movie embedding\n",
    "movie_input = Input(shape=[1],name='Movie')\n",
    "movie_embedding = Embedding(n_movies+1,dim_embedding_movie,name='Movie-Embedding')(movie_input)\n",
    "movie_vec = Flatten(name='Movie-Flatten')(movie_embedding)\n",
    "movie_vec = Dropout(0.2)(movie_vec)\n",
    "#user embedding\n",
    "user_input = Input(shape=[1],name = 'User')\n",
    "user_embedding = Embedding(n_users+1,dim_embedding_user,name='User-Embedding')(user_input)\n",
    "user_vec = Flatten(name='User-Flatten')(user_embedding)\n",
    "user_vec = Dropout(0.2)(user_vec)\n",
    "concat = concatenate([movie_vec,user_vec])\n",
    "concat_dropout = Dropout(0.2)(concat)\n",
    "dense_1 = Dense(20,name='Fully-Connected1',activation ='relu')(concat)\n",
    "result = Dense(1,activation='relu',name='Activation')(dense_1)\n",
    "model_tabular = Model([user_input,movie_input],result)\n",
    "model_tabular.summary()"
   ]
  },
  {
   "cell_type": "code",
   "execution_count": 100,
   "metadata": {},
   "outputs": [],
   "source": [
    "opt_adam = Adam(lr = 0.002)\n",
    "\n",
    "## compile model\n",
    "model_tabular.compile(optimizer= opt_adam, loss= ['mse'], metrics=['mean_absolute_error'])"
   ]
  },
  {
   "cell_type": "code",
   "execution_count": 103,
   "metadata": {},
   "outputs": [],
   "source": [
    "history_tabular1 = model_tabular.fit([train_df['userId'], train_df['movieId']],\n",
    "                                    train_df['rating'],\n",
    "                                    batch_size = 256,\n",
    "                                    validation_split = 0.005,\n",
    "                                    epochs = 4,\n",
    "                                    verbose = 0)"
   ]
  },
  {
   "cell_type": "code",
   "execution_count": 104,
   "metadata": {},
   "outputs": [
    {
     "data": {
      "text/html": [
       "<div>\n",
       "<style scoped>\n",
       "    .dataframe tbody tr th:only-of-type {\n",
       "        vertical-align: middle;\n",
       "    }\n",
       "\n",
       "    .dataframe tbody tr th {\n",
       "        vertical-align: top;\n",
       "    }\n",
       "\n",
       "    .dataframe thead th {\n",
       "        text-align: right;\n",
       "    }\n",
       "</style>\n",
       "<table border=\"1\" class=\"dataframe\">\n",
       "  <thead>\n",
       "    <tr style=\"text-align: right;\">\n",
       "      <th></th>\n",
       "      <th>val_loss</th>\n",
       "      <th>val_mean_absolute_error</th>\n",
       "      <th>loss</th>\n",
       "      <th>mean_absolute_error</th>\n",
       "    </tr>\n",
       "  </thead>\n",
       "  <tbody>\n",
       "    <tr>\n",
       "      <th>0</th>\n",
       "      <td>0.717681</td>\n",
       "      <td>0.651385</td>\n",
       "      <td>2.406234</td>\n",
       "      <td>1.119693</td>\n",
       "    </tr>\n",
       "    <tr>\n",
       "      <th>1</th>\n",
       "      <td>0.700666</td>\n",
       "      <td>0.643241</td>\n",
       "      <td>0.779976</td>\n",
       "      <td>0.682810</td>\n",
       "    </tr>\n",
       "    <tr>\n",
       "      <th>2</th>\n",
       "      <td>0.708969</td>\n",
       "      <td>0.653567</td>\n",
       "      <td>0.744410</td>\n",
       "      <td>0.666002</td>\n",
       "    </tr>\n",
       "    <tr>\n",
       "      <th>3</th>\n",
       "      <td>0.755514</td>\n",
       "      <td>0.678257</td>\n",
       "      <td>0.723287</td>\n",
       "      <td>0.653403</td>\n",
       "    </tr>\n",
       "  </tbody>\n",
       "</table>\n",
       "</div>"
      ],
      "text/plain": [
       "   val_loss  val_mean_absolute_error      loss  mean_absolute_error\n",
       "0  0.717681                 0.651385  2.406234             1.119693\n",
       "1  0.700666                 0.643241  0.779976             0.682810\n",
       "2  0.708969                 0.653567  0.744410             0.666002\n",
       "3  0.755514                 0.678257  0.723287             0.653403"
      ]
     },
     "execution_count": 104,
     "metadata": {},
     "output_type": "execute_result"
    }
   ],
   "source": [
    "pd.DataFrame(history_tabular1.history)\n"
   ]
  },
  {
   "cell_type": "code",
   "execution_count": 130,
   "metadata": {},
   "outputs": [
    {
     "data": {
      "text/plain": [
       "[1.150821368417784, 0.8474697268859794]"
      ]
     },
     "execution_count": 130,
     "metadata": {},
     "output_type": "execute_result"
    }
   ],
   "source": [
    "model_tabular.evaluate(x=[test_df['userId'],test_df['movieId']],y=test_df['rating'],verbose=0)"
   ]
  },
  {
   "cell_type": "markdown",
   "metadata": {},
   "source": [
    "# Collaborative Filtering with FastAI"
   ]
  },
  {
   "cell_type": "code",
   "execution_count": 141,
   "metadata": {},
   "outputs": [],
   "source": [
    "# %%script false \n",
    "\n",
    "## import fast.ai modules\n",
    "from fastai.collab import *\n",
    "from fastai.tabular import *\n",
    "\n",
    "## define user/item column names in the training data\n",
    "user, item = 'userId','movieId'\n",
    "data = CollabDataBunch.from_df(train_df, seed=42 )\n",
    "y_range = [0, 5.5]\n",
    "learn = collab_learner(data, n_factors = 10, y_range = y_range,metrics=mean_absolute_error)"
   ]
  },
  {
   "cell_type": "markdown",
   "metadata": {},
   "source": [
    "# Finding Appropriate Learning Rate"
   ]
  },
  {
   "cell_type": "code",
   "execution_count": 142,
   "metadata": {},
   "outputs": [
    {
     "data": {
      "text/html": [],
      "text/plain": [
       "<IPython.core.display.HTML object>"
      ]
     },
     "metadata": {},
     "output_type": "display_data"
    },
    {
     "name": "stdout",
     "output_type": "stream",
     "text": [
      "LR Finder is complete, type {learner_name}.recorder.plot() to see the graph.\n"
     ]
    },
    {
     "data": {
      "image/png": "[encoded data removed]",
      "text/plain": [
       "<Figure size 432x288 with 1 Axes>"
      ]
     },
     "metadata": {
      "needs_background": "light"
     },
     "output_type": "display_data"
    }
   ],
   "source": [
    "learn.lr_find()\n",
    "learn.recorder.plot()"
   ]
  },
  {
   "cell_type": "code",
   "execution_count": 143,
   "metadata": {},
   "outputs": [
    {
     "data": {
      "text/html": [
       "<table border=\"1\" class=\"dataframe\">\n",
       "  <thead>\n",
       "    <tr style=\"text-align: left;\">\n",
       "      <th>epoch</th>\n",
       "      <th>train_loss</th>\n",
       "      <th>valid_loss</th>\n",
       "      <th>mean_absolute_error</th>\n",
       "      <th>time</th>\n",
       "    </tr>\n",
       "  </thead>\n",
       "  <tbody>\n",
       "    <tr>\n",
       "      <td>0</td>\n",
       "      <td>0.795105</td>\n",
       "      <td>0.792166</td>\n",
       "      <td>0.687611</td>\n",
       "      <td>00:04</td>\n",
       "    </tr>\n",
       "    <tr>\n",
       "      <td>1</td>\n",
       "      <td>0.685934</td>\n",
       "      <td>0.738682</td>\n",
       "      <td>0.660417</td>\n",
       "      <td>00:04</td>\n",
       "    </tr>\n",
       "    <tr>\n",
       "      <td>2</td>\n",
       "      <td>0.507527</td>\n",
       "      <td>0.742883</td>\n",
       "      <td>0.662965</td>\n",
       "      <td>00:03</td>\n",
       "    </tr>\n",
       "  </tbody>\n",
       "</table>"
      ],
      "text/plain": [
       "<IPython.core.display.HTML object>"
      ]
     },
     "metadata": {},
     "output_type": "display_data"
    }
   ],
   "source": [
    "learn.fit_one_cycle(3, 0.01)"
   ]
  },
  {
   "cell_type": "code",
   "execution_count": 144,
   "metadata": {},
   "outputs": [
    {
     "data": {
      "text/plain": [
       "[1.1447802, tensor(0.8430)]"
      ]
     },
     "execution_count": 144,
     "metadata": {},
     "output_type": "execute_result"
    }
   ],
   "source": [
    "data_test = CollabDataBunch.from_df(test_df, seed=42)\n",
    "learn.validate(data_test.valid_dl)"
   ]
  },
  {
   "cell_type": "markdown",
   "metadata": {},
   "source": [
    "# Collaborative Filtering with Neural Network (FastAI)"
   ]
  },
  {
   "cell_type": "code",
   "execution_count": 159,
   "metadata": {},
   "outputs": [],
   "source": [
    "# %%script false \n",
    "\n",
    "## import fast.ai modules\n",
    "from fastai.collab import *\n",
    "from fastai.tabular import *\n",
    "\n",
    "## define user/item column names in the training data\n",
    "user, item = 'userId','movieId'\n",
    "data = CollabDataBunch.from_df(train_df, seed=42, test=test_df)\n",
    "y_range = [0, 5.5]\n",
    "emb_szs_param= {}\n",
    "emb_szs_param['movieId']=50\n",
    "emb_szs_param['userId']=50\n",
    "learn = collab_learner(data, use_nn=True, n_factors = 10,emb_szs=emb_szs_param, layers=[256,128,64],y_range = y_range)"
   ]
  },
  {
   "cell_type": "code",
   "execution_count": 160,
   "metadata": {},
   "outputs": [
    {
     "data": {
      "text/html": [
       "<table border=\"1\" class=\"dataframe\">\n",
       "  <thead>\n",
       "    <tr style=\"text-align: left;\">\n",
       "      <th>epoch</th>\n",
       "      <th>train_loss</th>\n",
       "      <th>valid_loss</th>\n",
       "      <th>time</th>\n",
       "    </tr>\n",
       "  </thead>\n",
       "  <tbody>\n",
       "    <tr>\n",
       "      <td>0</td>\n",
       "      <td>0.850351</td>\n",
       "      <td>0.810603</td>\n",
       "      <td>00:08</td>\n",
       "    </tr>\n",
       "    <tr>\n",
       "      <td>1</td>\n",
       "      <td>0.737608</td>\n",
       "      <td>0.751259</td>\n",
       "      <td>00:06</td>\n",
       "    </tr>\n",
       "    <tr>\n",
       "      <td>2</td>\n",
       "      <td>0.658631</td>\n",
       "      <td>0.750230</td>\n",
       "      <td>00:06</td>\n",
       "    </tr>\n",
       "  </tbody>\n",
       "</table>"
      ],
      "text/plain": [
       "<IPython.core.display.HTML object>"
      ]
     },
     "metadata": {},
     "output_type": "display_data"
    }
   ],
   "source": [
    "learn.fit_one_cycle(3, 0.01)"
   ]
  },
  {
   "cell_type": "code",
   "execution_count": 163,
   "metadata": {},
   "outputs": [],
   "source": [
    "preds = learn.get_preds(ds_type = DatasetType.Test)"
   ]
  },
  {
   "cell_type": "code",
   "execution_count": 178,
   "metadata": {},
   "outputs": [
    {
     "name": "stdout",
     "output_type": "stream",
     "text": [
      "tensor([0.8241])\n"
     ]
    }
   ],
   "source": [
    "s=0\n",
    "i=0\n",
    "for x in test_df.iterrows():\n",
    "    temp = abs(x[1]['rating']-preds[0][i])\n",
    "    s += temp\n",
    "    i=i+1\n",
    "s=s/i\n",
    "print(s)"
   ]
  }
 ],
 "metadata": {
  "kernelspec": {
   "display_name": "Python 3",
   "language": "python",
   "name": "python3"
  },
  "language_info": {
   "codemirror_mode": {
    "name": "ipython",
    "version": 3
   },
   "file_extension": ".py",
   "mimetype": "text/x-python",
   "name": "python",
   "nbconvert_exporter": "python",
   "pygments_lexer": "ipython3",
   "version": "3.6.9"
  }
 },
 "nbformat": 4,
 "nbformat_minor": 2
}
